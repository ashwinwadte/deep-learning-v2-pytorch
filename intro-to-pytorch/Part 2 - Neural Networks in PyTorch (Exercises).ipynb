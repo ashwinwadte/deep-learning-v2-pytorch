{
 "cells": [
  {
   "cell_type": "markdown",
   "metadata": {
    "colab_type": "text",
    "id": "isnuDaGXbMRP"
   },
   "source": [
    "# Neural networks with PyTorch\n",
    "\n",
    "Deep learning networks tend to be massive with dozens or hundreds of layers, that's where the term \"deep\" comes from. You can build one of these deep networks using only weight matrices as we did in the previous notebook, but in general it's very cumbersome and difficult to implement. PyTorch has a nice module `nn` that provides a nice way to efficiently build large neural networks."
   ]
  },
  {
   "cell_type": "code",
   "execution_count": 1,
   "metadata": {
    "colab": {},
    "colab_type": "code",
    "id": "LKdAXZCQT5wd"
   },
   "outputs": [
    {
     "name": "stdout",
     "output_type": "stream",
     "text": [
      "Requirement already satisfied: torch in c:\\projects\\continuum\\miniconda3\\lib\\site-packages (1.0.0)\n",
      "Requirement already satisfied: torchvision in c:\\projects\\continuum\\miniconda3\\lib\\site-packages (0.2.1)\n",
      "Requirement already satisfied: numpy in c:\\projects\\continuum\\miniconda3\\lib\\site-packages (from torchvision) (1.15.4)\n",
      "Requirement already satisfied: pillow>=4.1.1 in c:\\projects\\continuum\\miniconda3\\lib\\site-packages (from torchvision) (5.3.0)\n",
      "Requirement already satisfied: six in c:\\projects\\continuum\\miniconda3\\lib\\site-packages (from torchvision) (1.11.0)\n"
     ]
    },
    {
     "name": "stderr",
     "output_type": "stream",
     "text": [
      "You are using pip version 10.0.1, however version 19.1 is available.\n",
      "You should consider upgrading via the 'python -m pip install --upgrade pip' command.\n"
     ]
    },
    {
     "name": "stdout",
     "output_type": "stream",
     "text": [
      "Requirement already satisfied: matplotlib in c:\\projects\\continuum\\miniconda3\\lib\\site-packages (3.0.2)\n",
      "Requirement already satisfied: python-dateutil>=2.1 in c:\\projects\\continuum\\miniconda3\\lib\\site-packages (from matplotlib) (2.7.5)\n",
      "Requirement already satisfied: pyparsing!=2.0.4,!=2.1.2,!=2.1.6,>=2.0.1 in c:\\projects\\continuum\\miniconda3\\lib\\site-packages (from matplotlib) (2.3.0)\n",
      "Requirement already satisfied: kiwisolver>=1.0.1 in c:\\projects\\continuum\\miniconda3\\lib\\site-packages (from matplotlib) (1.0.1)\n",
      "Requirement already satisfied: numpy>=1.10.0 in c:\\projects\\continuum\\miniconda3\\lib\\site-packages (from matplotlib) (1.15.4)\n",
      "Requirement already satisfied: cycler>=0.10 in c:\\projects\\continuum\\miniconda3\\lib\\site-packages (from matplotlib) (0.10.0)\n",
      "Requirement already satisfied: six>=1.5 in c:\\projects\\continuum\\miniconda3\\lib\\site-packages (from python-dateutil>=2.1->matplotlib) (1.11.0)\n",
      "Requirement already satisfied: setuptools in c:\\projects\\continuum\\miniconda3\\lib\\site-packages (from kiwisolver>=1.0.1->matplotlib) (40.2.0)\n"
     ]
    },
    {
     "name": "stderr",
     "output_type": "stream",
     "text": [
      "You are using pip version 10.0.1, however version 19.1 is available.\n",
      "You should consider upgrading via the 'python -m pip install --upgrade pip' command.\n"
     ]
    }
   ],
   "source": [
    "# http://pytorch.org/\n",
    "!pip install torch torchvision\n",
    "!pip install matplotlib"
   ]
  },
  {
   "cell_type": "code",
   "execution_count": 2,
   "metadata": {
    "colab": {},
    "colab_type": "code",
    "id": "N25aY02SbMRU"
   },
   "outputs": [],
   "source": [
    "# Import necessary packages\n",
    "\n",
    "%matplotlib inline\n",
    "%config InlineBackend.figure_format = 'retina'\n",
    "\n",
    "import numpy as np\n",
    "import torch\n",
    "\n",
    "import helper\n",
    "\n",
    "import matplotlib.pyplot as plt"
   ]
  },
  {
   "cell_type": "markdown",
   "metadata": {
    "colab_type": "text",
    "id": "1dg5eaUybMRc"
   },
   "source": [
    "\n",
    "Now we're going to build a larger network that can solve a (formerly) difficult problem, identifying text in an image. Here we'll use the MNIST dataset which consists of greyscale handwritten digits. Each image is 28x28 pixels, you can see a sample below\n",
    "\n",
    "<img src='assets/mnist.png'>\n",
    "\n",
    "Our goal is to build a neural network that can take one of these images and predict the digit in the image.\n",
    "\n",
    "First up, we need to get our dataset. This is provided through the `torchvision` package. The code below will download the MNIST dataset, then create training and test datasets for us. Don't worry too much about the details here, you'll learn more about this later."
   ]
  },
  {
   "cell_type": "code",
   "execution_count": 3,
   "metadata": {
    "colab": {
     "base_uri": "https://localhost:8080/",
     "height": 123
    },
    "colab_type": "code",
    "id": "_TZaLRX4bMRd",
    "outputId": "513c5bde-066e-4861-e42e-fc7e1b3b8c88"
   },
   "outputs": [],
   "source": [
    "### Run this cell\n",
    "\n",
    "from torchvision import datasets, transforms\n",
    "\n",
    "# Define a transform to normalize the data\n",
    "transform = transforms.Compose([transforms.ToTensor(),\n",
    "                              transforms.Normalize((0.5,), (0.5,)),\n",
    "                              ])\n",
    "\n",
    "# Download and load the training data\n",
    "trainset = datasets.MNIST('~/.pytorch/MNIST_data/', download=True, train=True, transform=transform)\n",
    "trainloader = torch.utils.data.DataLoader(trainset, batch_size=64, shuffle=True)"
   ]
  },
  {
   "cell_type": "markdown",
   "metadata": {
    "colab_type": "text",
    "id": "plz3tOPUbMRk"
   },
   "source": [
    "We have the training data loaded into `trainloader` and we make that an iterator with `iter(trainloader)`. Later, we'll use this to loop through the dataset for training, like\n",
    "\n",
    "```python\n",
    "for image, label in trainloader:\n",
    "    ## do things with images and labels\n",
    "```\n",
    "\n",
    "You'll notice I created the `trainloader` with a batch size of 64, and `shuffle=True`. The batch size is the number of images we get in one iteration from the data loader and pass through our network, often called a *batch*. And `shuffle=True` tells it to shuffle the dataset every time we start going through the data loader again. But here I'm just grabbing the first batch so we can check out the data. We can see below that `images` is just a tensor with size `(64, 1, 28, 28)`. So, 64 images per batch, 1 color channel, and 28x28 images."
   ]
  },
  {
   "cell_type": "code",
   "execution_count": 5,
   "metadata": {
    "colab": {
     "base_uri": "https://localhost:8080/",
     "height": 70
    },
    "colab_type": "code",
    "id": "afBu2AyLbMRl",
    "outputId": "8a87ce92-cee3-456f-bb2b-2bcc33efa885"
   },
   "outputs": [
    {
     "name": "stdout",
     "output_type": "stream",
     "text": [
      "<class 'torch.Tensor'>\n",
      "torch.Size([64, 1, 28, 28])\n",
      "torch.Size([64])\n"
     ]
    }
   ],
   "source": [
    "dataiter = iter(trainloader)\n",
    "images, labels = dataiter.next()\n",
    "print(type(images))\n",
    "print(images.shape)\n",
    "print(labels.shape)"
   ]
  },
  {
   "cell_type": "markdown",
   "metadata": {
    "colab_type": "text",
    "id": "78tY2r_ebMRs"
   },
   "source": [
    "This is what one of the images looks like. "
   ]
  },
  {
   "cell_type": "code",
   "execution_count": 6,
   "metadata": {
    "colab": {
     "base_uri": "https://localhost:8080/",
     "height": 265
    },
    "colab_type": "code",
    "id": "jKY51hBPbMRu",
    "outputId": "954df0ce-b4e1-4b23-baa8-82eebbf00dc6"
   },
   "outputs": [
    {
     "data": {
      "image/png": "[encoded data removed]",
      "text/plain": [
       "<Figure size 432x288 with 1 Axes>"
      ]
     },
     "metadata": {
      "image/png": {
       "height": 250,
       "width": 253
      },
      "needs_background": "light"
     },
     "output_type": "display_data"
    }
   ],
   "source": [
    "plt.imshow(images[1].numpy().squeeze(), cmap='Greys_r');"
   ]
  },
  {
   "cell_type": "markdown",
   "metadata": {
    "colab_type": "text",
    "id": "_SIB6qfRbMR0"
   },
   "source": [
    "First, let's try to build a simple network for this dataset using weight matrices and matrix multiplications. Then, we'll see how to do it using PyTorch's `nn` module which provides a much more convenient and powerful method for defining network architectures.\n",
    "\n",
    "The networks you've seen so far are called *fully-connected* or *dense* networks. Each unit in one layer is connected to each unit in the next layer. In fully-connected networks, the input to each layer must be a one-dimensional vector (which can be stacked into a 2D tensor as a batch of multiple examples). However, our images are 28x28 2D tensors, so we need to convert them into 1D vectors. Thinking about sizes, we need to convert the batch of images with shape `(64, 1, 28, 28)` to a have a shape of `(64, 784)`, 784 is 28 times 28. This is typically called *flattening*, we flattened the 2D images into 1D vectors.\n",
    "\n",
    "Previously you built a network with one output unit. Here we need 10 output units, one for each digit. We want our network to predict the digit shown in an image, so what we'll do is calculate probabilities that the image is of any one digit or class. This ends up being a discrete probability distribution over the classes (digits) that tells us the most likely class for the image. That means we need 10 output units for the 10 classes (digits). We'll see how to convert the network output into a probability distribution next.\n",
    "\n",
    "> **Exercise:** Flatten the batch of images `images`. Then build a multi-layer network with 784 input units, 256 hidden units, and 10 output units using random tensors for the weights and biases. For now, use a sigmoid activation for the hidden layer. Leave the output layer without an activation, we'll add one that gives us a probability distribution next."
   ]
  },
  {
   "cell_type": "code",
   "execution_count": 7,
   "metadata": {
    "colab": {},
    "colab_type": "code",
    "id": "sNCcRbtKbMR2"
   },
   "outputs": [
    {
     "name": "stdout",
     "output_type": "stream",
     "text": [
      "tensor([[ 8.9724e+00,  3.5054e-01, -5.2120e-02, -1.4755e+01, -3.0110e-01,\n",
      "         -3.7091e+00, -5.4008e+00, -6.4594e+00, -4.7011e+00,  8.5130e+00],\n",
      "        [ 1.3575e+01,  2.4933e+00,  9.8532e+00, -1.0825e+01,  9.8805e+00,\n",
      "          2.3018e+00, -1.7665e+01,  2.3711e+00,  8.9212e+00,  1.3291e+01],\n",
      "        [ 7.9813e+00, -6.7419e+00,  7.1293e+00, -7.9409e+00,  2.2445e+00,\n",
      "         -6.1263e+00, -6.7133e+00,  3.4037e+00, -8.7441e+00,  1.4233e+01],\n",
      "        [ 1.1027e+01, -4.3465e+00,  6.7666e+00, -1.2352e+01, -6.1725e-01,\n",
      "         -3.8404e+00, -6.1798e+00,  1.1092e+01,  1.1728e+00,  1.5107e+01],\n",
      "        [ 4.6348e+00,  2.1715e-01,  3.1514e+00, -1.0051e+01,  8.2142e+00,\n",
      "         -2.1958e+00, -6.7807e+00, -1.1740e+00,  1.6252e+00,  4.4712e+00],\n",
      "        [ 8.5040e+00,  2.5316e+00,  9.0310e-02, -1.1947e+01,  5.6638e+00,\n",
      "         -7.6315e+00,  5.7827e+00,  4.7781e+00,  6.1289e+00,  7.3552e+00],\n",
      "        [ 2.4095e+00, -4.8849e+00,  6.1286e+00, -7.0825e+00,  1.0195e+01,\n",
      "         -2.3984e+00, -1.0828e+01,  4.4109e+00, -3.6950e+00,  1.0591e+01],\n",
      "        [ 8.9581e+00, -1.1112e+00,  5.3850e+00, -6.9230e+00,  1.4258e+01,\n",
      "          3.7675e+00, -2.8448e+00,  3.1780e+00, -7.9840e+00,  4.8275e+00],\n",
      "        [ 1.7633e+01, -1.2218e+00, -3.9434e+00, -1.6717e+01, -1.3633e+00,\n",
      "         -6.7470e+00, -2.2645e+00,  1.0175e+01, -7.2385e+00,  8.9991e+00],\n",
      "        [ 1.0751e+01, -3.3919e+00, -4.2050e+00, -1.5422e+01,  3.0092e+00,\n",
      "          3.6653e-01, -5.8451e+00,  9.5924e+00, -4.7168e+00,  1.5376e+01],\n",
      "        [ 3.6463e+00,  4.1638e+00,  1.0643e+00, -1.0211e+01,  1.6750e+01,\n",
      "          1.4821e+00, -2.8252e+00, -4.4677e+00,  7.2777e-01, -4.9449e-01],\n",
      "        [ 1.3678e+01, -4.2481e+00,  7.4742e+00, -1.9735e+01,  5.3656e+00,\n",
      "          1.2238e-01, -1.3217e+00,  9.4819e+00,  4.5311e+00,  1.2389e+01],\n",
      "        [ 6.9428e+00,  4.7783e+00,  3.0419e+00, -3.7294e+00, -3.2589e+00,\n",
      "         -4.2623e+00, -1.0874e+01, -1.3468e+00, -1.3570e+01,  1.5277e+01],\n",
      "        [ 1.4852e+01,  8.6443e-01, -5.0463e+00, -1.8150e+01,  6.5307e+00,\n",
      "         -2.2032e-02,  1.6842e+00, -3.4527e-01,  8.2750e+00,  4.7861e+00],\n",
      "        [ 8.2104e+00, -2.8983e+00, -5.7065e+00, -1.8450e+01, -2.0148e+00,\n",
      "         -7.8500e+00, -5.4113e-01,  8.6347e-01, -6.3028e+00,  1.2233e+01],\n",
      "        [ 9.9651e+00, -2.0274e+00,  2.7886e+00, -1.6687e+01,  4.9895e+00,\n",
      "          3.1180e+00, -1.3481e+01,  3.0112e+00, -9.8529e+00,  8.4700e+00],\n",
      "        [ 1.1738e+01,  1.5227e+00,  1.9694e+00, -1.6597e+01,  4.7936e+00,\n",
      "         -4.5621e+00, -1.6602e+01,  2.0277e+00, -1.5512e+01,  3.3143e+00],\n",
      "        [ 1.1430e+01, -7.5577e+00,  3.7336e+00, -1.3905e+01,  8.6064e+00,\n",
      "         -1.4221e-01, -7.9536e+00, -2.7752e+00, -8.6491e-01,  7.5947e+00],\n",
      "        [ 6.8093e+00, -2.7898e+00,  5.3474e+00, -9.0004e+00,  1.2178e+01,\n",
      "          1.7379e+00, -6.6028e+00, -2.9583e+00, -1.0045e+01,  9.1608e+00],\n",
      "        [ 4.9628e+00, -1.8992e+00,  3.9338e+00, -1.1405e+01,  7.2212e+00,\n",
      "         -1.1487e+01, -5.7035e+00, -2.0785e+00, -2.3478e+00,  1.8238e+01],\n",
      "        [ 1.9625e+01,  4.8626e+00,  7.6382e+00, -1.1169e+01,  1.4104e+01,\n",
      "          6.8561e+00, -8.7504e+00,  1.1556e+01, -8.1695e-01,  1.1154e+01],\n",
      "        [ 2.4645e+00,  5.4152e+00,  1.0361e+00, -1.8382e+01,  1.0073e+00,\n",
      "         -1.6667e+00, -1.1561e+01, -1.7817e+00,  1.7629e+00,  2.8701e+00],\n",
      "        [ 9.8777e+00, -8.1202e+00,  6.2508e+00, -1.5978e+01,  9.5085e+00,\n",
      "         -3.4848e+00, -7.0741e+00,  5.3236e+00,  3.1955e+00,  6.7123e+00],\n",
      "        [ 2.2302e+00, -4.4416e+00,  1.9236e+00, -9.1141e+00,  3.4256e+00,\n",
      "         -6.2729e+00, -1.1249e+01,  2.6722e+00, -9.1638e+00,  1.9947e+01],\n",
      "        [ 7.5563e+00, -7.3702e+00,  3.5782e+00, -1.1676e+01,  5.1055e+00,\n",
      "          1.1844e+01, -5.7291e+00,  6.0574e+00,  5.9821e+00,  6.5338e+00],\n",
      "        [ 1.0945e+01, -8.8140e+00,  4.2619e+00, -1.8081e+01, -1.7881e-01,\n",
      "         -2.0476e+00, -5.3211e+00,  1.0751e+01,  5.5004e-01,  1.5994e+01],\n",
      "        [ 3.0141e+00, -8.3152e+00,  3.5923e+00, -1.5458e+01,  3.5727e+00,\n",
      "         -2.7653e+00, -8.9512e+00,  1.8709e+00,  1.1861e+00,  1.8002e+01],\n",
      "        [ 1.0022e+01,  2.6908e+00,  1.3014e+01, -2.0297e+01,  1.9986e+00,\n",
      "          3.1710e-01, -9.2510e+00,  5.0874e+00, -9.3865e+00,  1.4141e+01],\n",
      "        [ 7.2325e+00, -9.1910e-01,  6.3326e+00, -1.2696e+01,  1.0556e+01,\n",
      "          3.2238e+00, -1.3028e+01,  2.5406e+00, -5.7491e+00,  1.7598e+01],\n",
      "        [ 1.7264e+01, -4.6880e+00,  1.6210e+00, -2.1190e+01,  8.6540e+00,\n",
      "          1.8482e+00, -8.1565e+00, -2.5404e+00,  7.9556e+00,  9.3304e-01],\n",
      "        [ 7.1673e+00,  2.2188e+00, -1.3366e+00, -1.3518e+01,  6.3797e+00,\n",
      "          5.0742e+00,  6.5006e-01, -4.6660e+00,  1.0902e+00,  9.0894e+00],\n",
      "        [ 1.2182e+01, -3.0172e+00, -4.7928e+00, -1.4358e+01,  4.5726e+00,\n",
      "          3.7798e+00, -1.4374e+01, -3.2558e+00, -1.3288e+01,  9.1286e+00],\n",
      "        [-3.5110e+00, -2.8155e+00, -9.4531e-01, -1.0777e+01,  1.1624e+01,\n",
      "         -4.0878e+00,  5.1829e-01, -1.0009e+01, -6.5617e+00,  1.5369e+00],\n",
      "        [ 1.1354e+01,  2.0218e+00, -4.8828e-02, -1.9208e+01,  3.3461e+00,\n",
      "         -1.9677e+00, -2.0249e+00,  4.3735e+00, -9.5576e+00,  9.5399e+00],\n",
      "        [ 1.7194e+01, -2.8591e+00, -2.6257e+00, -1.7915e+01,  4.8702e+00,\n",
      "          3.0965e+00, -3.1073e+00, -2.0526e+00,  9.1853e+00,  4.3242e+00],\n",
      "        [ 1.1082e+01,  2.0633e+00, -3.7716e-01, -1.4439e+01,  1.8826e+01,\n",
      "          1.4486e+01,  3.3535e+00,  3.5199e+00, -5.3975e+00,  4.2509e+00],\n",
      "        [-1.6754e+00,  5.9300e-01, -1.0628e+00, -1.7913e+01,  1.0601e+00,\n",
      "          3.7592e-01, -2.6878e+00,  1.0281e+01, -2.0994e-01,  1.1586e+01],\n",
      "        [ 1.3454e+01, -9.2620e+00,  9.8487e-01, -2.2625e+01,  7.4512e+00,\n",
      "          4.7932e+00, -3.6038e+00,  7.3369e+00, -2.0509e+00,  1.1568e+01],\n",
      "        [ 8.5013e+00,  1.5480e+00,  8.1672e-01, -7.7786e+00,  9.2565e-01,\n",
      "          1.3893e+00, -8.1664e+00, -3.2627e+00, -1.3565e+01,  1.7164e+01],\n",
      "        [ 1.3496e+01,  2.3868e-01,  4.0506e+00, -1.4601e+01, -2.8341e+00,\n",
      "         -7.9056e+00, -1.3215e+01,  1.3157e+01, -2.5478e+00,  1.2179e+01],\n",
      "        [ 5.0167e+00, -1.2880e+00, -5.9463e+00, -2.1432e+01,  6.4091e+00,\n",
      "          1.1732e+00, -4.7192e+00,  3.8238e+00, -4.5509e-01,  9.6704e+00],\n",
      "        [ 8.4296e+00, -7.8781e+00,  7.8811e+00, -1.3046e+01,  1.0815e+01,\n",
      "         -2.6340e+00, -1.1666e+01,  7.4427e+00,  4.9452e+00,  2.3694e+01],\n",
      "        [ 1.2103e+01,  1.7669e+00, -1.0726e-01, -1.3503e+01,  5.0091e+00,\n",
      "         -3.2249e+00, -7.7931e+00,  1.9751e+00, -1.1753e+01,  1.5299e+01],\n",
      "        [ 1.4003e+01,  2.3392e+00, -8.1257e-01, -9.3875e+00,  1.0243e+01,\n",
      "          1.8502e+00, -6.0280e+00,  5.7264e+00,  1.4970e+00,  5.7588e+00],\n",
      "        [ 9.4816e+00, -2.5548e+00, -1.6403e+00, -1.2369e+01, -3.8256e+00,\n",
      "         -3.7021e+00, -7.2051e+00, -1.3623e+00, -8.1168e+00,  1.8187e+01],\n",
      "        [ 2.2064e+00,  7.7410e+00,  9.0023e+00, -1.2070e+01,  1.1323e+01,\n",
      "         -1.5483e-01, -1.3874e+01, -5.2792e+00, -1.4958e+01,  1.9594e+01],\n",
      "        [ 1.3497e+01,  2.8957e+00, -3.5945e-01, -1.2450e+01,  1.2433e+01,\n",
      "         -3.0529e+00, -1.3385e+01,  7.8876e+00, -4.3991e+00,  1.2651e+01],\n",
      "        [ 1.0687e+01,  4.0256e+00,  3.6224e+00, -2.3988e+01, -1.2180e-01,\n",
      "         -4.5465e+00,  9.6601e+00,  9.9951e+00, -3.6260e+00,  3.4187e+00],\n",
      "        [ 8.3842e+00, -4.9090e+00, -8.0780e+00, -7.8506e+00,  1.3040e+01,\n",
      "          3.2552e+00, -4.7532e+00,  1.9722e+00, -6.6109e+00,  9.8089e+00],\n",
      "        [ 1.2267e+01, -7.9539e+00,  9.4118e+00, -1.8099e+01,  8.8656e+00,\n",
      "          5.4390e+00, -7.0111e+00,  2.9470e+00,  8.5336e+00,  9.0469e+00],\n",
      "        [ 1.2952e+01,  4.1402e+00,  3.1998e+00, -1.8875e+01,  8.6974e+00,\n",
      "          8.5636e+00, -3.2071e+00,  7.5377e+00, -5.8446e+00,  1.6703e+00],\n",
      "        [ 8.7206e+00, -1.7325e+00, -5.3348e+00, -1.5317e+01,  5.9706e+00,\n",
      "          7.8800e-02, -1.0713e+01,  1.9535e+00, -1.1232e+00,  1.2683e+01],\n",
      "        [ 8.8949e+00, -2.4039e+00,  6.1558e+00, -5.0472e+00,  9.5578e+00,\n",
      "         -5.0590e+00, -9.3217e+00,  7.0548e-01,  9.6819e-01,  1.4375e+01],\n",
      "        [ 1.2989e+01, -6.7447e-01,  1.1712e+01, -3.9773e+00,  4.3356e+00,\n",
      "         -2.4197e+00, -1.2837e+01,  6.5273e+00, -1.0642e+01,  1.4764e+01],\n",
      "        [ 7.8174e+00,  6.3888e-01,  9.1172e+00, -1.7025e+01,  1.1393e+01,\n",
      "          1.5023e+00, -1.8171e+01,  3.0120e+00, -1.5239e+01,  1.0139e+01],\n",
      "        [ 7.6858e+00, -1.8672e-01, -2.5313e+00, -1.4449e+01,  8.4910e+00,\n",
      "         -1.5164e+00, -2.0247e+01, -8.1620e+00, -1.4657e+01,  1.2236e+01],\n",
      "        [ 1.0184e+01,  3.3502e+00, -2.5716e+00, -2.5934e+01,  1.3241e+01,\n",
      "         -1.0874e+01, -1.2540e+01,  1.8121e+00, -7.3021e+00,  1.8510e+01],\n",
      "        [ 1.4551e+01, -7.9283e+00,  5.2065e+00, -9.3813e+00,  8.2898e+00,\n",
      "          3.7795e+00, -1.2226e+01, -2.5539e+00,  1.4731e+00,  1.0604e+01],\n",
      "        [ 1.7293e+01, -3.6432e+00, -2.0310e+00, -1.4555e+01,  8.3529e+00,\n",
      "          2.3405e+00, -3.9986e+00,  7.3374e-01,  2.0932e+00,  1.0451e+01],\n",
      "        [ 1.6157e+01, -2.1644e+00,  1.1103e+01, -2.0214e+01,  1.0274e+01,\n",
      "          7.0459e+00, -8.3178e+00,  1.2519e+00,  7.3685e-01,  1.0085e+01],\n",
      "        [ 1.6790e+01, -1.8675e+00, -2.1797e+00, -2.1959e+01,  8.2317e+00,\n",
      "          8.7969e+00, -4.7309e+00,  3.6577e+00, -2.9811e+00,  7.7897e+00],\n",
      "        [ 4.4517e+00,  3.3857e+00, -4.7650e+00, -7.8185e+00,  2.6529e+00,\n",
      "          2.5597e+00,  2.3113e+00,  3.1534e-01, -8.7697e+00,  4.6991e+00],\n",
      "        [ 7.6768e+00, -5.4829e+00,  6.1605e+00, -2.0360e+01,  6.4733e+00,\n",
      "         -1.6382e+00,  6.6975e+00,  1.4717e+01,  2.3753e+00,  1.2408e+01],\n",
      "        [ 1.4950e+01, -7.9451e+00,  7.0739e+00, -1.5539e+01,  1.3453e+00,\n",
      "         -2.0040e+00, -1.2477e+01,  6.5151e+00,  3.3519e-01,  1.0132e+01]])\n"
     ]
    }
   ],
   "source": [
    "## Your solution\n",
    "def activation(x):\n",
    "    return 1 / (1 + torch.exp(-x))\n",
    "  \n",
    "# flatten the images\n",
    "images = images.view(64, -1) #784=28*28\n",
    "\n",
    "# parameters\n",
    "w1 = torch.randn(784, 256)\n",
    "b1 = torch.randn(256)\n",
    "\n",
    "w2 = torch.randn(256, 10)\n",
    "b2 = torch.randn(10)\n",
    "\n",
    "h = activation(torch.mm(images, w1) + b1)\n",
    "\n",
    "\n",
    "out = torch.mm(h, w2) + b2 # output of your network, should have shape (64,10)\n",
    "print(out)"
   ]
  },
  {
   "cell_type": "markdown",
   "metadata": {
    "colab_type": "text",
    "id": "PxBYqCJGbMR6"
   },
   "source": [
    "Now we have 10 outputs for our network. We want to pass in an image to our network and get out a probability distribution over the classes that tells us the likely class(es) the image belongs to. Something that looks like this:\n",
    "<img src='assets/image_distribution.png' width=500px>\n",
    "\n",
    "Here we see that the probability for each class is roughly the same. This is representing an untrained network, it hasn't seen any data yet so it just returns a uniform distribution with equal probabilities for each class.\n",
    "\n",
    "To calculate this probability distribution, we often use the [**softmax** function](https://en.wikipedia.org/wiki/Softmax_function). Mathematically this looks like\n",
    "\n",
    "$$\n",
    "\\Large \\sigma(x_i) = \\cfrac{e^{x_i}}{\\sum_k^K{e^{x_k}}}\n",
    "$$\n",
    "\n",
    "What this does is squish each input $x_i$ between 0 and 1 and normalizes the values to give you a proper probability distribution where the probabilites sum up to one.\n",
    "\n",
    "> **Exercise:** Implement a function `softmax` that performs the softmax calculation and returns probability distributions for each example in the batch. Note that you'll need to pay attention to the shapes when doing this. If you have a tensor `a` with shape `(64, 10)` and a tensor `b` with shape `(64,)`, doing `a/b` will give you an error because PyTorch will try to do the division across the columns (called broadcasting) but you'll get a size mismatch. The way to think about this is for each of the 64 examples, you only want to divide by one value, the sum in the denominator. So you need `b` to have a shape of `(64, 1)`. This way PyTorch will divide the 10 values in each row of `a` by the one value in each row of `b`. Pay attention to how you take the sum as well. You'll need to define the `dim` keyword in `torch.sum`. Setting `dim=0` takes the sum across the rows while `dim=1` takes the sum across the columns."
   ]
  },
  {
   "cell_type": "code",
   "execution_count": 8,
   "metadata": {
    "colab": {
     "base_uri": "https://localhost:8080/",
     "height": 175
    },
    "colab_type": "code",
    "id": "fQutCpiobMR7",
    "outputId": "7fd880cd-fe5b-436a-f8a2-40aee19fc8b5"
   },
   "outputs": [
    {
     "name": "stdout",
     "output_type": "stream",
     "text": [
      "torch.Size([64, 10])\n",
      "tensor([1.0000, 1.0000, 1.0000, 1.0000, 1.0000, 1.0000, 1.0000, 1.0000, 1.0000,\n",
      "        1.0000, 1.0000, 1.0000, 1.0000, 1.0000, 1.0000, 1.0000, 1.0000, 1.0000,\n",
      "        1.0000, 1.0000, 1.0000, 1.0000, 1.0000, 1.0000, 1.0000, 1.0000, 1.0000,\n",
      "        1.0000, 1.0000, 1.0000, 1.0000, 1.0000, 1.0000, 1.0000, 1.0000, 1.0000,\n",
      "        1.0000, 1.0000, 1.0000, 1.0000, 1.0000, 1.0000, 1.0000, 1.0000, 1.0000,\n",
      "        1.0000, 1.0000, 1.0000, 1.0000, 1.0000, 1.0000, 1.0000, 1.0000, 1.0000,\n",
      "        1.0000, 1.0000, 1.0000, 1.0000, 1.0000, 1.0000, 1.0000, 1.0000, 1.0000,\n",
      "        1.0000])\n"
     ]
    }
   ],
   "source": [
    "def softmax(x):\n",
    "    ## TODO: Implement the softmax function here\n",
    "    return torch.exp(x) / torch.exp(x).sum(1).view(-1,1)\n",
    "\n",
    "# Here, out should be the output of the network in the previous excercise with shape (64,10)\n",
    "probabilities = softmax(out)\n",
    "\n",
    "# Does it have the right shape? Should be (64, 10)\n",
    "print(probabilities.shape)\n",
    "# Does it sum to 1?\n",
    "print(probabilities.sum(dim=1))"
   ]
  },
  {
   "cell_type": "markdown",
   "metadata": {
    "colab_type": "text",
    "id": "IaqDNIdIbMR_"
   },
   "source": [
    "## Building networks with PyTorch\n",
    "\n",
    "PyTorch provides a module `nn` that makes building networks much simpler. Here I'll show you how to build the same one as above with 784 inputs, 256 hidden units, 10 output units and a softmax output."
   ]
  },
  {
   "cell_type": "code",
   "execution_count": 9,
   "metadata": {
    "colab": {},
    "colab_type": "code",
    "id": "0lrn88XRbMSB"
   },
   "outputs": [],
   "source": [
    "from torch import nn"
   ]
  },
  {
   "cell_type": "code",
   "execution_count": 11,
   "metadata": {
    "colab": {},
    "colab_type": "code",
    "id": "75bN67WjbMSF"
   },
   "outputs": [],
   "source": [
    "class Network(nn.Module):\n",
    "    def __init__(self):\n",
    "        super().__init__()\n",
    "        \n",
    "        # Inputs to hidden layer linear transformation\n",
    "        self.hidden = nn.Linear(784, 256)\n",
    "        # Output layer, 10 units - one for each digit\n",
    "        self.output = nn.Linear(256, 10)\n",
    "        \n",
    "        # Define sigmoid activation and softmax output \n",
    "        self.sigmoid = nn.Sigmoid()\n",
    "        self.softmax = nn.Softmax(dim=1)\n",
    "        \n",
    "    def forward(self, x):\n",
    "        # Pass the input tensor through each of our operations\n",
    "        x = self.hidden(x)\n",
    "        x = self.sigmoid(x)\n",
    "        x = self.output(x)\n",
    "        x = self.softmax(x)\n",
    "        \n",
    "        return x"
   ]
  },
  {
   "cell_type": "markdown",
   "metadata": {
    "colab_type": "text",
    "id": "ap17iyrqbMSI"
   },
   "source": [
    "Let's go through this bit by bit.\n",
    "\n",
    "```python\n",
    "class Network(nn.Module):\n",
    "```\n",
    "\n",
    "Here we're inheriting from `nn.Module`. Combined with `super().__init__()` this creates a class that tracks the architecture and provides a lot of useful methods and attributes. It is mandatory to inherit from `nn.Module` when you're creating a class for your network. The name of the class itself can be anything.\n",
    "\n",
    "```python\n",
    "self.hidden = nn.Linear(784, 256)\n",
    "```\n",
    "\n",
    "This line creates a module for a linear transformation, $x\\mathbf{W} + b$, with 784 inputs and 256 outputs and assigns it to `self.hidden`. The module automatically creates the weight and bias tensors which we'll use in the `forward` method. You can access the weight and bias tensors once the network (`net`) is created with `net.hidden.weight` and `net.hidden.bias`.\n",
    "\n",
    "```python\n",
    "self.output = nn.Linear(256, 10)\n",
    "```\n",
    "\n",
    "Similarly, this creates another linear transformation with 256 inputs and 10 outputs.\n",
    "\n",
    "```python\n",
    "self.sigmoid = nn.Sigmoid()\n",
    "self.softmax = nn.Softmax(dim=1)\n",
    "```\n",
    "\n",
    "Here I defined operations for the sigmoid activation and softmax output. Setting `dim=1` in `nn.Softmax(dim=1)` calculates softmax across the columns.\n",
    "\n",
    "```python\n",
    "def forward(self, x):\n",
    "```\n",
    "\n",
    "PyTorch networks created with `nn.Module` must have a `forward` method defined. It takes in a tensor `x` and passes it through the operations you defined in the `__init__` method.\n",
    "\n",
    "```python\n",
    "x = self.hidden(x)\n",
    "x = self.sigmoid(x)\n",
    "x = self.output(x)\n",
    "x = self.softmax(x)\n",
    "```\n",
    "\n",
    "Here the input tensor `x` is passed through each operation and reassigned to `x`. We can see that the input tensor goes through the hidden layer, then a sigmoid function, then the output layer, and finally the softmax function. It doesn't matter what you name the variables here, as long as the inputs and outputs of the operations match the network architecture you want to build. The order in which you define things in the `__init__` method doesn't matter, but you'll need to sequence the operations correctly in the `forward` method.\n",
    "\n",
    "Now we can create a `Network` object."
   ]
  },
  {
   "cell_type": "code",
   "execution_count": 12,
   "metadata": {
    "colab": {
     "base_uri": "https://localhost:8080/",
     "height": 123
    },
    "colab_type": "code",
    "id": "CqOjbZkPbMSJ",
    "outputId": "b5cd50b5-0bff-4600-804c-58094f2d9104"
   },
   "outputs": [
    {
     "data": {
      "text/plain": [
       "Network(\n",
       "  (hidden): Linear(in_features=784, out_features=256, bias=True)\n",
       "  (output): Linear(in_features=256, out_features=10, bias=True)\n",
       "  (sigmoid): Sigmoid()\n",
       "  (softmax): Softmax()\n",
       ")"
      ]
     },
     "execution_count": 12,
     "metadata": {},
     "output_type": "execute_result"
    }
   ],
   "source": [
    "# Create the network and look at it's text representation\n",
    "model = Network()\n",
    "model"
   ]
  },
  {
   "cell_type": "markdown",
   "metadata": {
    "colab_type": "text",
    "id": "dq_xEb20bMSM"
   },
   "source": [
    "You can define the network somewhat more concisely and clearly using the `torch.nn.functional` module. This is the most common way you'll see networks defined as many operations are simple element-wise functions. We normally import this module as `F`, `import torch.nn.functional as F`."
   ]
  },
  {
   "cell_type": "code",
   "execution_count": 14,
   "metadata": {
    "colab": {},
    "colab_type": "code",
    "id": "qzwJ5P4CbMSO"
   },
   "outputs": [],
   "source": [
    "import torch.nn.functional as F\n",
    "\n",
    "class Network(nn.Module):\n",
    "    def __init__(self):\n",
    "        super().__init__()\n",
    "        # Inputs to hidden layer linear transformation\n",
    "        self.hidden = nn.Linear(784, 256)\n",
    "        # Output layer, 10 units - one for each digit\n",
    "        self.output = nn.Linear(256, 10)\n",
    "        \n",
    "    def forward(self, x):\n",
    "        # Hidden layer with sigmoid activation\n",
    "        x = F.sigmoid(self.hidden(x))\n",
    "        # Output layer with softmax activation\n",
    "        x = F.softmax(self.output(x), dim=1)\n",
    "        \n",
    "        return x"
   ]
  },
  {
   "cell_type": "markdown",
   "metadata": {
    "colab_type": "text",
    "id": "Vrlunk5_bMSQ"
   },
   "source": [
    "### Activation functions\n",
    "\n",
    "So far we've only been looking at the sigmoid activation function, but in general any function can be used as an activation function. The only requirement is that for a network to approximate a non-linear function, the activation functions must be non-linear. Here are a few more examples of common activation functions: Tanh (hyperbolic tangent), and ReLU (rectified linear unit).\n",
    "\n",
    "<img src=\"assets/activation.png\" width=700px>\n",
    "\n",
    "In practice, the ReLU function is used almost exclusively as the activation function for hidden layers."
   ]
  },
  {
   "cell_type": "markdown",
   "metadata": {
    "colab_type": "text",
    "id": "ngtwhwhBbMSR"
   },
   "source": [
    "### Your Turn to Build a Network\n",
    "\n",
    "<img src=\"assets/mlp_mnist.png\" width=600px>\n",
    "\n",
    "> **Exercise:** Create a network with 784 input units, a hidden layer with 128 units and a ReLU activation, then a hidden layer with 64 units and a ReLU activation, and finally an output layer with a softmax activation as shown above. You can use a ReLU activation with the `nn.ReLU` module or `F.relu` function.\n",
    "\n",
    "It's good practice to name your layers by their type of network, for instance 'fc' to represent a fully-connected layer. As you code your solution, use `fc1`, `fc2`, and `fc3` as your layer names."
   ]
  },
  {
   "cell_type": "code",
   "execution_count": 18,
   "metadata": {
    "colab": {
     "base_uri": "https://localhost:8080/",
     "height": 105
    },
    "colab_type": "code",
    "id": "nLXc6ZAxbMSR",
    "outputId": "8f70371e-0ec9-4ef4-8748-cedb4b285994",
    "scrolled": true
   },
   "outputs": [
    {
     "data": {
      "text/plain": [
       "Network(\n",
       "  (fc1): Linear(in_features=784, out_features=128, bias=True)\n",
       "  (fc2): Linear(in_features=128, out_features=64, bias=True)\n",
       "  (fc3): Linear(in_features=64, out_features=10, bias=True)\n",
       ")"
      ]
     },
     "execution_count": 18,
     "metadata": {},
     "output_type": "execute_result"
    }
   ],
   "source": [
    "## Your solution here\n",
    "class Network(nn.Module):\n",
    "    def __init__(self):\n",
    "        super().__init__()\n",
    "        self.fc1 = nn.Linear(784, 128)\n",
    "        self.fc2 = nn.Linear(128, 64)\n",
    "        self.fc3 = nn.Linear(64, 10)\n",
    "    \n",
    "    def forward(self, x):\n",
    "        x = F.relu(self.fc1(x))\n",
    "        x = F.relu(self.fc2(x))\n",
    "        x = F.softmax(self.fc3(x), dim=1)\n",
    "    \n",
    "        return x\n",
    "\n",
    "model = Network()\n",
    "model\n"
   ]
  },
  {
   "cell_type": "markdown",
   "metadata": {
    "colab_type": "text",
    "id": "FP2_6xQWbMSU"
   },
   "source": [
    "### Initializing weights and biases\n",
    "\n",
    "The weights and bias are automatically initialized for you, but it's possible to customize how they are initialized. The weights and biases are tensors attached to the layer you defined, you can get them with `model.fc1.weight` for instance."
   ]
  },
  {
   "cell_type": "code",
   "execution_count": 19,
   "metadata": {
    "colab": {
     "base_uri": "https://localhost:8080/",
     "height": 651
    },
    "colab_type": "code",
    "id": "L0q0b5IgbMSV",
    "outputId": "885d0435-036b-4a0b-eea6-5ab0f55b4152"
   },
   "outputs": [
    {
     "name": "stdout",
     "output_type": "stream",
     "text": [
      "Parameter containing:\n",
      "tensor([[ 0.0218,  0.0059, -0.0003,  ...,  0.0067,  0.0261, -0.0133],\n",
      "        [-0.0289, -0.0207,  0.0183,  ...,  0.0152, -0.0224, -0.0013],\n",
      "        [ 0.0251,  0.0331, -0.0172,  ..., -0.0085,  0.0308, -0.0193],\n",
      "        ...,\n",
      "        [ 0.0120,  0.0047, -0.0051,  ...,  0.0045, -0.0070, -0.0155],\n",
      "        [ 0.0058,  0.0148,  0.0074,  ...,  0.0258,  0.0315, -0.0085],\n",
      "        [ 0.0328, -0.0130,  0.0028,  ...,  0.0196,  0.0273,  0.0223]],\n",
      "       requires_grad=True)\n",
      "Parameter containing:\n",
      "tensor([ 0.0180,  0.0079,  0.0017, -0.0125, -0.0243, -0.0173, -0.0121, -0.0265,\n",
      "        -0.0049, -0.0282, -0.0022, -0.0277, -0.0042, -0.0149,  0.0085,  0.0293,\n",
      "        -0.0018,  0.0233,  0.0005, -0.0223, -0.0163, -0.0291, -0.0325, -0.0293,\n",
      "         0.0245, -0.0107,  0.0034,  0.0279, -0.0149, -0.0205,  0.0072, -0.0020,\n",
      "         0.0303,  0.0077,  0.0303,  0.0335,  0.0262,  0.0355, -0.0021,  0.0254,\n",
      "         0.0034,  0.0254,  0.0088, -0.0123, -0.0097, -0.0335, -0.0324,  0.0282,\n",
      "        -0.0006, -0.0113, -0.0256, -0.0008, -0.0209, -0.0172, -0.0177, -0.0288,\n",
      "        -0.0164,  0.0293, -0.0251,  0.0150,  0.0067, -0.0104, -0.0157,  0.0191,\n",
      "        -0.0005,  0.0049, -0.0062, -0.0191,  0.0300, -0.0151,  0.0299, -0.0032,\n",
      "         0.0089, -0.0041, -0.0343,  0.0297, -0.0270, -0.0039, -0.0108,  0.0059,\n",
      "         0.0086,  0.0164, -0.0343, -0.0312,  0.0139, -0.0190,  0.0040,  0.0153,\n",
      "         0.0066,  0.0322, -0.0228,  0.0194, -0.0024,  0.0254,  0.0012, -0.0062,\n",
      "        -0.0014, -0.0116, -0.0193,  0.0015, -0.0268, -0.0074,  0.0298, -0.0125,\n",
      "        -0.0241,  0.0233,  0.0216, -0.0322, -0.0340, -0.0090, -0.0257,  0.0108,\n",
      "        -0.0264,  0.0065,  0.0265,  0.0180, -0.0357,  0.0013, -0.0169, -0.0314,\n",
      "        -0.0308,  0.0088, -0.0299, -0.0184, -0.0149,  0.0123, -0.0084,  0.0014],\n",
      "       requires_grad=True)\n"
     ]
    }
   ],
   "source": [
    "print(model.fc1.weight)\n",
    "print(model.fc1.bias)"
   ]
  },
  {
   "cell_type": "markdown",
   "metadata": {
    "colab_type": "text",
    "id": "XUXNST55bMSY"
   },
   "source": [
    "For custom initialization, we want to modify these tensors in place. These are actually autograd *Variables*, so we need to get back the actual tensors with `model.fc1.weight.data`. Once we have the tensors, we can fill them with zeros (for biases) or random normal values."
   ]
  },
  {
   "cell_type": "code",
   "execution_count": 20,
   "metadata": {
    "colab": {
     "base_uri": "https://localhost:8080/",
     "height": 123
    },
    "colab_type": "code",
    "id": "ipUnuNZPbMSZ",
    "outputId": "afa4a6f7-b8d5-4a76-cd4f-52882a71abdb"
   },
   "outputs": [
    {
     "data": {
      "text/plain": [
       "tensor([0., 0., 0., 0., 0., 0., 0., 0., 0., 0., 0., 0., 0., 0., 0., 0., 0., 0., 0., 0., 0., 0., 0., 0.,\n",
       "        0., 0., 0., 0., 0., 0., 0., 0., 0., 0., 0., 0., 0., 0., 0., 0., 0., 0., 0., 0., 0., 0., 0., 0.,\n",
       "        0., 0., 0., 0., 0., 0., 0., 0., 0., 0., 0., 0., 0., 0., 0., 0., 0., 0., 0., 0., 0., 0., 0., 0.,\n",
       "        0., 0., 0., 0., 0., 0., 0., 0., 0., 0., 0., 0., 0., 0., 0., 0., 0., 0., 0., 0., 0., 0., 0., 0.,\n",
       "        0., 0., 0., 0., 0., 0., 0., 0., 0., 0., 0., 0., 0., 0., 0., 0., 0., 0., 0., 0., 0., 0., 0., 0.,\n",
       "        0., 0., 0., 0., 0., 0., 0., 0.])"
      ]
     },
     "execution_count": 20,
     "metadata": {},
     "output_type": "execute_result"
    }
   ],
   "source": [
    "# Set biases to all zeros\n",
    "model.fc1.bias.data.fill_(0)"
   ]
  },
  {
   "cell_type": "code",
   "execution_count": 21,
   "metadata": {
    "colab": {
     "base_uri": "https://localhost:8080/",
     "height": 140
    },
    "colab_type": "code",
    "id": "aKTyBlhMbMSd",
    "outputId": "c0f19656-61f8-49f0-ff4d-d084c7db32b4",
    "scrolled": false
   },
   "outputs": [
    {
     "data": {
      "text/plain": [
       "tensor([[-1.2574e-02,  7.1594e-03,  1.5082e-03,  ...,  1.5668e-04,\n",
       "          1.0652e-02, -6.0010e-04],\n",
       "        [-1.0160e-02, -9.5393e-03,  1.5435e-02,  ...,  4.2963e-04,\n",
       "         -7.3133e-03,  3.8849e-03],\n",
       "        [ 7.7293e-03,  1.0114e-02,  1.2311e-02,  ..., -1.4381e-02,\n",
       "         -9.3511e-03, -3.3792e-03],\n",
       "        ...,\n",
       "        [ 8.9348e-05,  6.0039e-03, -4.1253e-03,  ...,  1.2612e-03,\n",
       "          1.0487e-02, -1.1083e-02],\n",
       "        [-8.8958e-03,  2.4163e-02, -8.4902e-03,  ...,  1.4063e-02,\n",
       "          2.9659e-03,  1.8995e-03],\n",
       "        [ 2.7976e-03, -1.0900e-02, -3.5235e-03,  ..., -2.8164e-03,\n",
       "         -6.9660e-03,  3.1874e-03]])"
      ]
     },
     "execution_count": 21,
     "metadata": {},
     "output_type": "execute_result"
    }
   ],
   "source": [
    "# sample from random normal with standard dev = 0.01\n",
    "model.fc1.weight.data.normal_(std=0.01)"
   ]
  },
  {
   "cell_type": "markdown",
   "metadata": {
    "colab_type": "text",
    "id": "xiIerDhlbMSh"
   },
   "source": [
    "### Forward pass\n",
    "\n",
    "Now that we have a network, let's see what happens when we pass in an image."
   ]
  },
  {
   "cell_type": "code",
   "execution_count": 22,
   "metadata": {
    "colab": {},
    "colab_type": "code",
    "id": "qjdhQ4c_bMSj"
   },
   "outputs": [
    {
     "data": {
      "image/png": "[encoded data removed]",
      "text/plain": [
       "<Figure size 432x648 with 2 Axes>"
      ]
     },
     "metadata": {
      "image/png": {
       "height": 226,
       "width": 423
      },
      "needs_background": "light"
     },
     "output_type": "display_data"
    }
   ],
   "source": [
    "# Grab some data \n",
    "dataiter = iter(trainloader)\n",
    "images, labels = dataiter.next()\n",
    "\n",
    "# Resize images into a 1D vector, new shape is (batch size, color channels, image pixels) \n",
    "images.resize_(64, 1, 784)\n",
    "# or images.resize_(images.shape[0], 1, 784) to automatically get batch size\n",
    "\n",
    "# Forward pass through the network\n",
    "img_idx = 0\n",
    "ps = model.forward(images[img_idx,:])\n",
    "\n",
    "img = images[img_idx]\n",
    "helper.view_classify(img.view(1, 28, 28), ps)"
   ]
  },
  {
   "cell_type": "markdown",
   "metadata": {
    "colab_type": "text",
    "id": "GTmeKnRabMSl"
   },
   "source": [
    "As you can see above, our network has basically no idea what this digit is. It's because we haven't trained it yet, all the weights are random!\n",
    "\n",
    "### Using `nn.Sequential`\n",
    "\n",
    "PyTorch provides a convenient way to build networks like this where a tensor is passed sequentially through operations, `nn.Sequential` ([documentation](https://pytorch.org/docs/master/nn.html#torch.nn.Sequential)). Using this to build the equivalent network:"
   ]
  },
  {
   "cell_type": "code",
   "execution_count": 23,
   "metadata": {
    "colab": {},
    "colab_type": "code",
    "id": "-ApZAax8bMSn"
   },
   "outputs": [
    {
     "name": "stdout",
     "output_type": "stream",
     "text": [
      "Sequential(\n",
      "  (0): Linear(in_features=784, out_features=128, bias=True)\n",
      "  (1): ReLU()\n",
      "  (2): Linear(in_features=128, out_features=64, bias=True)\n",
      "  (3): ReLU()\n",
      "  (4): Linear(in_features=64, out_features=10, bias=True)\n",
      "  (5): Softmax()\n",
      ")\n"
     ]
    },
    {
     "data": {
      "image/png": "[encoded data removed]",
      "text/plain": [
       "<Figure size 432x648 with 2 Axes>"
      ]
     },
     "metadata": {
      "image/png": {
       "height": 226,
       "width": 423
      },
      "needs_background": "light"
     },
     "output_type": "display_data"
    }
   ],
   "source": [
    "# Hyperparameters for our network\n",
    "input_size = 784\n",
    "hidden_sizes = [128, 64]\n",
    "output_size = 10\n",
    "\n",
    "# Build a feed-forward network\n",
    "model = nn.Sequential(nn.Linear(input_size, hidden_sizes[0]),\n",
    "                      nn.ReLU(),\n",
    "                      nn.Linear(hidden_sizes[0], hidden_sizes[1]),\n",
    "                      nn.ReLU(),\n",
    "                      nn.Linear(hidden_sizes[1], output_size),\n",
    "                      nn.Softmax(dim=1))\n",
    "print(model)\n",
    "\n",
    "# Forward pass through the network and display output\n",
    "images, labels = next(iter(trainloader))\n",
    "images.resize_(images.shape[0], 1, 784)\n",
    "ps = model.forward(images[0,:])\n",
    "helper.view_classify(images[0].view(1, 28, 28), ps)"
   ]
  },
  {
   "cell_type": "markdown",
   "metadata": {
    "colab_type": "text",
    "id": "3Xe4EUt0bMSp"
   },
   "source": [
    "Here our model is the same as before: 784 input units, a hidden layer with 128 units, ReLU activation, 64 unit hidden layer, another ReLU, then the output layer with 10 units, and the softmax output.\n",
    "\n",
    "The operations are available by passing in the appropriate index. For example, if you want to get first Linear operation and look at the weights, you'd use `model[0]`."
   ]
  },
  {
   "cell_type": "code",
   "execution_count": 24,
   "metadata": {
    "colab": {},
    "colab_type": "code",
    "id": "fbC0NHdfbMSp"
   },
   "outputs": [
    {
     "name": "stdout",
     "output_type": "stream",
     "text": [
      "Linear(in_features=784, out_features=128, bias=True)\n"
     ]
    },
    {
     "data": {
      "text/plain": [
       "Parameter containing:\n",
       "tensor([[-0.0004,  0.0257,  0.0275,  ...,  0.0247, -0.0146, -0.0278],\n",
       "        [-0.0117,  0.0097, -0.0210,  ..., -0.0095, -0.0236, -0.0057],\n",
       "        [-0.0116, -0.0275, -0.0315,  ..., -0.0317,  0.0217,  0.0006],\n",
       "        ...,\n",
       "        [-0.0314,  0.0087, -0.0179,  ...,  0.0127, -0.0355, -0.0329],\n",
       "        [-0.0286,  0.0041,  0.0262,  ...,  0.0340,  0.0109,  0.0263],\n",
       "        [-0.0026,  0.0224, -0.0352,  ..., -0.0123,  0.0194, -0.0217]],\n",
       "       requires_grad=True)"
      ]
     },
     "execution_count": 24,
     "metadata": {},
     "output_type": "execute_result"
    }
   ],
   "source": [
    "print(model[0])\n",
    "model[0].weight"
   ]
  },
  {
   "cell_type": "markdown",
   "metadata": {
    "colab_type": "text",
    "id": "ofMoAtF7bMSs"
   },
   "source": [
    "You can also pass in an `OrderedDict` to name the individual layers and operations, instead of using incremental integers. Note that dictionary keys must be unique, so _each operation must have a different name_."
   ]
  },
  {
   "cell_type": "code",
   "execution_count": 25,
   "metadata": {
    "colab": {},
    "colab_type": "code",
    "id": "cLjV7igGbMSt"
   },
   "outputs": [
    {
     "data": {
      "text/plain": [
       "Sequential(\n",
       "  (fc1): Linear(in_features=784, out_features=128, bias=True)\n",
       "  (relu1): ReLU()\n",
       "  (fc2): Linear(in_features=128, out_features=64, bias=True)\n",
       "  (relu2): ReLU()\n",
       "  (output): Linear(in_features=64, out_features=10, bias=True)\n",
       "  (softmax): Softmax()\n",
       ")"
      ]
     },
     "execution_count": 25,
     "metadata": {},
     "output_type": "execute_result"
    }
   ],
   "source": [
    "from collections import OrderedDict\n",
    "model = nn.Sequential(OrderedDict([\n",
    "                      ('fc1', nn.Linear(input_size, hidden_sizes[0])),\n",
    "                      ('relu1', nn.ReLU()),\n",
    "                      ('fc2', nn.Linear(hidden_sizes[0], hidden_sizes[1])),\n",
    "                      ('relu2', nn.ReLU()),\n",
    "                      ('output', nn.Linear(hidden_sizes[1], output_size)),\n",
    "                      ('softmax', nn.Softmax(dim=1))]))\n",
    "model"
   ]
  },
  {
   "cell_type": "markdown",
   "metadata": {
    "colab_type": "text",
    "id": "jbVcamLqbMSv"
   },
   "source": [
    "Now you can access layers either by integer or the name"
   ]
  },
  {
   "cell_type": "code",
   "execution_count": 27,
   "metadata": {
    "colab": {},
    "colab_type": "code",
    "id": "lgIORuvLbMSx"
   },
   "outputs": [
    {
     "name": "stdout",
     "output_type": "stream",
     "text": [
      "Linear(in_features=784, out_features=128, bias=True)\n",
      "Linear(in_features=784, out_features=128, bias=True)\n"
     ]
    }
   ],
   "source": [
    "print(model[0])\n",
    "print(model.fc1)"
   ]
  },
  {
   "cell_type": "markdown",
   "metadata": {
    "colab_type": "text",
    "id": "9ESjSmMXbMSz"
   },
   "source": [
    "In the next notebook, we'll see how we can train a neural network to accuractly predict the numbers appearing in the MNIST images."
   ]
  }
 ],
 "metadata": {
  "accelerator": "GPU",
  "colab": {
   "collapsed_sections": [],
   "name": "Part 2 - Neural Networks in PyTorch (Exercises).ipynb",
   "provenance": [],
   "version": "0.3.2"
  },
  "kernelspec": {
   "display_name": "Python 3",
   "language": "python",
   "name": "python3"
  },
  "language_info": {
   "codemirror_mode": {
    "name": "ipython",
    "version": 3
   },
   "file_extension": ".py",
   "mimetype": "text/x-python",
   "name": "python",
   "nbconvert_exporter": "python",
   "pygments_lexer": "ipython3",
   "version": "3.7.0"
  }
 },
 "nbformat": 4,
 "nbformat_minor": 1
}
